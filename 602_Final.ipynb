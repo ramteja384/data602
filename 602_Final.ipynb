{
 "cells": [
  {
   "cell_type": "markdown",
   "id": "657a791c",
   "metadata": {},
   "source": [
    "# Final Project Presentation\n",
    "\n",
    "                                                                                   Prudhvi (WW86898)\n",
    "                                                                                   Ramteja (XD63939)"
   ]
  },
  {
   "cell_type": "code",
   "execution_count": null,
   "id": "acdecf1b",
   "metadata": {},
   "outputs": [],
   "source": [
    "import pandas as pd\n",
    "import numpy as np\n",
    "from nltk.sentiment import SentimentIntensityAnalyzer\n",
    "from sklearn.feature_extraction.text import TfidfVectorizer\n",
    "import matplotlib.pyplot as plt\n",
    "from sklearn.cluster import KMeans\n",
    "from sklearn.model_selection import train_test_split,GridSearchCV\n",
    "from sklearn.linear_model import LogisticRegression\n",
    "from sklearn.linear_model import LinearRegression\n",
    "from sklearn.metrics import classification_report\n",
    "from sklearn.preprocessing import StandardScaler\n",
    "from sklearn.preprocessing import LabelEncoder\n",
    "from sklearn.feature_extraction.text import CountVectorizer\n",
    "from sklearn.metrics import accuracy_score\n",
    "from sklearn.feature_extraction.text import TfidfVectorizer\n",
    "from sklearn.model_selection import train_test_split\n",
    "from sklearn.tree import DecisionTreeClassifier\n",
    "from sklearn.ensemble import RandomForestClassifier"
   ]
  },
  {
   "cell_type": "code",
   "execution_count": 22,
   "id": "98aa7ab0",
   "metadata": {},
   "outputs": [
    {
     "data": {
      "text/html": [
       "<div>\n",
       "<style scoped>\n",
       "    .dataframe tbody tr th:only-of-type {\n",
       "        vertical-align: middle;\n",
       "    }\n",
       "\n",
       "    .dataframe tbody tr th {\n",
       "        vertical-align: top;\n",
       "    }\n",
       "\n",
       "    .dataframe thead th {\n",
       "        text-align: right;\n",
       "    }\n",
       "</style>\n",
       "<table border=\"1\" class=\"dataframe\">\n",
       "  <thead>\n",
       "    <tr style=\"text-align: right;\">\n",
       "      <th></th>\n",
       "      <th>review</th>\n",
       "    </tr>\n",
       "  </thead>\n",
       "  <tbody>\n",
       "    <tr>\n",
       "      <th>0</th>\n",
       "      <td>Shame, is a Swedish film in Swedish with Engli...</td>\n",
       "    </tr>\n",
       "    <tr>\n",
       "      <th>1</th>\n",
       "      <td>I know it's rather unfair to comment on a movi...</td>\n",
       "    </tr>\n",
       "    <tr>\n",
       "      <th>2</th>\n",
       "      <td>\"Bread\" very sharply skewers the conventions o...</td>\n",
       "    </tr>\n",
       "    <tr>\n",
       "      <th>3</th>\n",
       "      <td>After reading tons of good reviews about this ...</td>\n",
       "    </tr>\n",
       "    <tr>\n",
       "      <th>4</th>\n",
       "      <td>During the Civil war a wounded union soldier h...</td>\n",
       "    </tr>\n",
       "  </tbody>\n",
       "</table>\n",
       "</div>"
      ],
      "text/plain": [
       "                                              review\n",
       "0  Shame, is a Swedish film in Swedish with Engli...\n",
       "1  I know it's rather unfair to comment on a movi...\n",
       "2  \"Bread\" very sharply skewers the conventions o...\n",
       "3  After reading tons of good reviews about this ...\n",
       "4  During the Civil war a wounded union soldier h..."
      ]
     },
     "execution_count": 22,
     "metadata": {},
     "output_type": "execute_result"
    }
   ],
   "source": [
    "data = pd.read_csv(\"https://raw.githubusercontent.com/msaricaumbc/DS_data/master/ds602/final/X_train.csv\")\n",
    "data.head()"
   ]
  },
  {
   "cell_type": "code",
   "execution_count": 23,
   "id": "9c36616e",
   "metadata": {},
   "outputs": [
    {
     "name": "stdout",
     "output_type": "stream",
     "text": [
      "                                               review  sentiment_score  \\\n",
      "0   Shame, is a Swedish film in Swedish with Engli...           0.9944   \n",
      "1   I know it's rather unfair to comment on a movi...           0.9605   \n",
      "2   \"Bread\" very sharply skewers the conventions o...           0.7134   \n",
      "3   After reading tons of good reviews about this ...           0.9901   \n",
      "4   During the Civil war a wounded union soldier h...           0.9937   \n",
      "..                                                ...              ...   \n",
      "95  Two years passed and mostly everyone looks dif...           0.9797   \n",
      "96  I had never heard of Larry Fessenden before bu...           0.7931   \n",
      "97  The fact that I did not like the music is a ve...          -0.9978   \n",
      "98  How can stuff like this still be made? Didn't ...          -0.2678   \n",
      "99  If this movie were any worse, it would have be...          -0.4530   \n",
      "\n",
      "   sentiment_label  \n",
      "0         Positive  \n",
      "1         Positive  \n",
      "2         Positive  \n",
      "3         Positive  \n",
      "4         Positive  \n",
      "..             ...  \n",
      "95        Positive  \n",
      "96        Positive  \n",
      "97        Negative  \n",
      "98        Negative  \n",
      "99        Negative  \n",
      "\n",
      "[100 rows x 3 columns]\n"
     ]
    }
   ],
   "source": [
    "sid = SentimentIntensityAnalyzer()\n",
    "\n",
    "# Perform sentiment analysis on each review\n",
    "data['sentiment_score'] = data['review'].apply(lambda x: sid.polarity_scores(x)['compound'])\n",
    "\n",
    "# Classify the sentiment based on the sentiment score\n",
    "data['sentiment_label'] = data['sentiment_score'].apply(lambda x: 'Positive' if x > 0 else 'Negative' if x < 0 else 'Neutral')\n",
    "\n",
    "# Print the updated DataFrame with sentiment scores and labels\n",
    "print(data.head(100))"
   ]
  },
  {
   "cell_type": "markdown",
   "id": "072ef970",
   "metadata": {},
   "source": [
    "- It initializes a SentimentIntensityAnalyzer object called sid. This object is part of the Natural Language Toolkit (NLTK) library and is used for sentiment analysis. Here, the sentiment score represents the overall sentiment of the review, ranging from -1 (negative) to 1 (positive). The calculated sentiment scores are stored in a new column called 'sentiment_score' in the data DataFrame."
   ]
  },
  {
   "cell_type": "code",
   "execution_count": 24,
   "id": "ad793479",
   "metadata": {},
   "outputs": [
    {
     "name": "stdout",
     "output_type": "stream",
     "text": [
      "<class 'pandas.core.frame.DataFrame'>\n",
      "RangeIndex: 40000 entries, 0 to 39999\n",
      "Data columns (total 3 columns):\n",
      " #   Column           Non-Null Count  Dtype  \n",
      "---  ------           --------------  -----  \n",
      " 0   review           40000 non-null  object \n",
      " 1   sentiment_score  40000 non-null  float64\n",
      " 2   sentiment_label  40000 non-null  object \n",
      "dtypes: float64(1), object(2)\n",
      "memory usage: 937.6+ KB\n"
     ]
    }
   ],
   "source": [
    "data.info()"
   ]
  },
  {
   "cell_type": "code",
   "execution_count": 25,
   "id": "f646d330",
   "metadata": {},
   "outputs": [
    {
     "name": "stderr",
     "output_type": "stream",
     "text": [
      "/Users/prudhvi/anaconda3/lib/python3.10/site-packages/sklearn/cluster/_kmeans.py:870: FutureWarning: The default value of `n_init` will change from 10 to 'auto' in 1.4. Set the value of `n_init` explicitly to suppress the warning\n",
      "  warnings.warn(\n",
      "/Users/prudhvi/anaconda3/lib/python3.10/site-packages/sklearn/cluster/_kmeans.py:870: FutureWarning: The default value of `n_init` will change from 10 to 'auto' in 1.4. Set the value of `n_init` explicitly to suppress the warning\n",
      "  warnings.warn(\n",
      "/Users/prudhvi/anaconda3/lib/python3.10/site-packages/sklearn/cluster/_kmeans.py:870: FutureWarning: The default value of `n_init` will change from 10 to 'auto' in 1.4. Set the value of `n_init` explicitly to suppress the warning\n",
      "  warnings.warn(\n",
      "/Users/prudhvi/anaconda3/lib/python3.10/site-packages/sklearn/cluster/_kmeans.py:870: FutureWarning: The default value of `n_init` will change from 10 to 'auto' in 1.4. Set the value of `n_init` explicitly to suppress the warning\n",
      "  warnings.warn(\n",
      "/Users/prudhvi/anaconda3/lib/python3.10/site-packages/sklearn/cluster/_kmeans.py:870: FutureWarning: The default value of `n_init` will change from 10 to 'auto' in 1.4. Set the value of `n_init` explicitly to suppress the warning\n",
      "  warnings.warn(\n",
      "/Users/prudhvi/anaconda3/lib/python3.10/site-packages/sklearn/cluster/_kmeans.py:870: FutureWarning: The default value of `n_init` will change from 10 to 'auto' in 1.4. Set the value of `n_init` explicitly to suppress the warning\n",
      "  warnings.warn(\n",
      "/Users/prudhvi/anaconda3/lib/python3.10/site-packages/sklearn/cluster/_kmeans.py:870: FutureWarning: The default value of `n_init` will change from 10 to 'auto' in 1.4. Set the value of `n_init` explicitly to suppress the warning\n",
      "  warnings.warn(\n",
      "/Users/prudhvi/anaconda3/lib/python3.10/site-packages/sklearn/cluster/_kmeans.py:870: FutureWarning: The default value of `n_init` will change from 10 to 'auto' in 1.4. Set the value of `n_init` explicitly to suppress the warning\n",
      "  warnings.warn(\n",
      "/Users/prudhvi/anaconda3/lib/python3.10/site-packages/sklearn/cluster/_kmeans.py:870: FutureWarning: The default value of `n_init` will change from 10 to 'auto' in 1.4. Set the value of `n_init` explicitly to suppress the warning\n",
      "  warnings.warn(\n"
     ]
    },
    {
     "data": {
      "image/png": "[encoded data removed]",
      "text/plain": [
       "<Figure size 640x480 with 1 Axes>"
      ]
     },
     "metadata": {},
     "output_type": "display_data"
    }
   ],
   "source": [
    "scaler = StandardScaler()\n",
    "data['sentiment_score_scaled'] = scaler.fit_transform(data[['sentiment_score']])\n",
    "\n",
    "# Select the feature for clustering\n",
    "X = data[['sentiment_score_scaled']]\n",
    "\n",
    "# Perform K-means clustering for different numbers of clusters\n",
    "k_values = range(2, 11)\n",
    "inertia_values = []\n",
    "silhouette_scores = []\n",
    "\n",
    "for k in k_values:\n",
    "    kmeans = KMeans(n_clusters=k, random_state=42)\n",
    "    kmeans.fit(X)\n",
    "    inertia_values.append(kmeans.inertia_)\n",
    "\n",
    "# Plot the inertia values\n",
    "plt.plot(k_values, inertia_values, 'bx-')\n",
    "plt.xlabel('Number of Clusters (k)')\n",
    "plt.ylabel('Inertia')\n",
    "plt.title('Elbow Method - Inertia')\n",
    "plt.show()"
   ]
  },
  {
   "cell_type": "markdown",
   "id": "0fa99f4a",
   "metadata": {},
   "source": [
    "- Here the plot showing the relationship between the number of clusters (k) and the inertia values. The plot will help you determine the optimal number of clusters for the given data. The \"elbow\" in the plot represents a point of diminishing returns, where the inertia values start to level off. The optimal number of clusters is often chosen at this elbow point as it provides a good balance between capturing the structure of the data and avoiding excessive complexity. Based on the plot I have choosed optimal n value as 4."
   ]
  },
  {
   "cell_type": "code",
   "execution_count": 26,
   "id": "bdf8e2c8",
   "metadata": {},
   "outputs": [
    {
     "name": "stdout",
     "output_type": "stream",
     "text": [
      "                                              review  sentiment_score  \\\n",
      "0  Shame, is a Swedish film in Swedish with Engli...           0.9944   \n",
      "1  I know it's rather unfair to comment on a movi...           0.9605   \n",
      "2  \"Bread\" very sharply skewers the conventions o...           0.7134   \n",
      "3  After reading tons of good reviews about this ...           0.9901   \n",
      "4  During the Civil war a wounded union soldier h...           0.9937   \n",
      "\n",
      "  sentiment_label  sentiment_score_scaled sentiment_label_updated  \n",
      "0        Positive                0.862549                Positive  \n",
      "1        Positive                0.820482                Positive  \n",
      "2        Positive                0.513855                Positive  \n",
      "3        Positive                0.857213                Positive  \n",
      "4        Positive                0.861680                Positive  \n"
     ]
    },
    {
     "name": "stderr",
     "output_type": "stream",
     "text": [
      "/Users/prudhvi/anaconda3/lib/python3.10/site-packages/sklearn/cluster/_kmeans.py:870: FutureWarning: The default value of `n_init` will change from 10 to 'auto' in 1.4. Set the value of `n_init` explicitly to suppress the warning\n",
      "  warnings.warn(\n"
     ]
    }
   ],
   "source": [
    "# Perform feature scaling\n",
    "scaler = StandardScaler()\n",
    "data['sentiment_score_scaled'] = scaler.fit_transform(data[['sentiment_score']])\n",
    "\n",
    "# Select the feature for clustering\n",
    "X = data[['sentiment_score_scaled']]\n",
    "\n",
    "# Determine the optimal number of clusters using the elbow method or any other appropriate method\n",
    "optimal_k = 4\n",
    "\n",
    "# Perform K-means clustering with the optimal number of clusters\n",
    "kmeans = KMeans(n_clusters=optimal_k, random_state=42)\n",
    "kmeans.fit(X)\n",
    "\n",
    "# Obtain the cluster centroids\n",
    "centroids = kmeans.cluster_centers_\n",
    "\n",
    "# Assign sentiment labels to the neutral reviews based on proximity to the cluster centroids\n",
    "data['sentiment_label_updated'] = data.apply(lambda row: 'Positive' if row['sentiment_label'] == 'Positive' else 'Negative' if row['sentiment_label'] == 'Negative' else 'Positive' if abs(row['sentiment_score_scaled'] - centroids[0]) < abs(row['sentiment_score_scaled'] - centroids[1]) else 'Negative', axis=1)\n",
    "\n",
    "# Print the updated DataFrame with sentiment labels\n",
    "print(data.head())"
   ]
  },
  {
   "cell_type": "markdown",
   "id": "a3574297",
   "metadata": {},
   "source": [
    "- It performs K-means clustering with the optimal number of clusters (4 in this case) using the KMeans class. The resulting clusters are stored in the kmeans object.\n",
    "- This assigns sentiment labels to the neutral reviews based on their proximity to the cluster centroids. It uses a lambda function with the apply method on the data DataFrame. For each row in the DataFrame, it checks the original sentiment label. If it is already 'Positive' or 'Negative', the same label is assigned. Otherwise, the proximity of the sentiment score to the centroids is compared, and the sentiment label is assigned based on the closest centroid.\n",
    "- The updated sentiment labels are stored in a new column called 'sentiment_label_updated' in the data DataFrame."
   ]
  },
  {
   "cell_type": "code",
   "execution_count": 27,
   "id": "226624e8",
   "metadata": {},
   "outputs": [
    {
     "name": "stdout",
     "output_type": "stream",
     "text": [
      "<class 'pandas.core.frame.DataFrame'>\n",
      "RangeIndex: 40000 entries, 0 to 39999\n",
      "Data columns (total 5 columns):\n",
      " #   Column                   Non-Null Count  Dtype  \n",
      "---  ------                   --------------  -----  \n",
      " 0   review                   40000 non-null  object \n",
      " 1   sentiment_score          40000 non-null  float64\n",
      " 2   sentiment_label          40000 non-null  object \n",
      " 3   sentiment_score_scaled   40000 non-null  float64\n",
      " 4   sentiment_label_updated  40000 non-null  object \n",
      "dtypes: float64(2), object(3)\n",
      "memory usage: 1.5+ MB\n"
     ]
    }
   ],
   "source": [
    "data.info()"
   ]
  },
  {
   "cell_type": "code",
   "execution_count": 28,
   "id": "c0502a19",
   "metadata": {},
   "outputs": [
    {
     "name": "stdout",
     "output_type": "stream",
     "text": [
      "                                              review  sentiment_score  \\\n",
      "0  Shame, is a Swedish film in Swedish with Engli...           0.9944   \n",
      "1  I know it's rather unfair to comment on a movi...           0.9605   \n",
      "2  \"Bread\" very sharply skewers the conventions o...           0.7134   \n",
      "3  After reading tons of good reviews about this ...           0.9901   \n",
      "4  During the Civil war a wounded union soldier h...           0.9937   \n",
      "\n",
      "  sentiment_label  sentiment_score_scaled sentiment_label_updated  \\\n",
      "0        Positive                0.862549                Positive   \n",
      "1        Positive                0.820482                Positive   \n",
      "2        Positive                0.513855                Positive   \n",
      "3        Positive                0.857213                Positive   \n",
      "4        Positive                0.861680                Positive   \n",
      "\n",
      "   sentiment_label_num  \n",
      "0                    1  \n",
      "1                    1  \n",
      "2                    1  \n",
      "3                    1  \n",
      "4                    1  \n"
     ]
    }
   ],
   "source": [
    "# Encode the sentiment labels into numerical values\n",
    "label_encoder = LabelEncoder()\n",
    "data['sentiment_label_num'] = label_encoder.fit_transform(data['sentiment_label_updated'])\n",
    "\n",
    "# Print the updated DataFrame\n",
    "print(data.head())"
   ]
  },
  {
   "cell_type": "markdown",
   "id": "487b99bb",
   "metadata": {},
   "source": [
    "- Newly added 'sentiment_label_num' column will contain the numerical representation of the sentiment labels. The exact numerical values assigned to each sentiment label will depend on the specific encoding done by the LabelEncoder."
   ]
  },
  {
   "cell_type": "code",
   "execution_count": 29,
   "id": "1ee7ae01",
   "metadata": {},
   "outputs": [
    {
     "name": "stdout",
     "output_type": "stream",
     "text": [
      "<class 'pandas.core.frame.DataFrame'>\n",
      "RangeIndex: 40000 entries, 0 to 39999\n",
      "Data columns (total 6 columns):\n",
      " #   Column                   Non-Null Count  Dtype  \n",
      "---  ------                   --------------  -----  \n",
      " 0   review                   40000 non-null  object \n",
      " 1   sentiment_score          40000 non-null  float64\n",
      " 2   sentiment_label          40000 non-null  object \n",
      " 3   sentiment_score_scaled   40000 non-null  float64\n",
      " 4   sentiment_label_updated  40000 non-null  object \n",
      " 5   sentiment_label_num      40000 non-null  int64  \n",
      "dtypes: float64(2), int64(1), object(3)\n",
      "memory usage: 1.8+ MB\n"
     ]
    }
   ],
   "source": [
    "data.info()"
   ]
  },
  {
   "cell_type": "code",
   "execution_count": 30,
   "id": "da7d606a",
   "metadata": {
    "scrolled": true
   },
   "outputs": [],
   "source": [
    "# Preprocess the text data and extract features using TF-IDF vectorization\n",
    "tfidf = TfidfVectorizer()\n",
    "X = tfidf.fit_transform(data[\"review\"].astype(str))\n",
    "y = data['sentiment_label_num']\n",
    "\n",
    "# Split the data into training and testing sets\n",
    "X_train, X_test, y_train, y_test = train_test_split(X, y, test_size=0.2, random_state=42)\n",
    "\n"
   ]
  },
  {
   "cell_type": "markdown",
   "id": "d6c19db5",
   "metadata": {},
   "source": [
    "- Here we used TfidfVectorizer object called tfidf. This object is used to convert text data into numerical features using the TF-IDF (Term Frequency-Inverse Document Frequency) algorithm."
   ]
  },
  {
   "cell_type": "code",
   "execution_count": 31,
   "id": "1e77ee6d",
   "metadata": {},
   "outputs": [
    {
     "name": "stdout",
     "output_type": "stream",
     "text": [
      "Accuracy: 0.84775\n",
      "Classification Report:\n",
      "               precision    recall  f1-score   support\n",
      "\n",
      "           0       0.83      0.68      0.75      2645\n",
      "           1       0.86      0.93      0.89      5355\n",
      "\n",
      "    accuracy                           0.85      8000\n",
      "   macro avg       0.84      0.81      0.82      8000\n",
      "weighted avg       0.85      0.85      0.84      8000\n",
      "\n"
     ]
    }
   ],
   "source": [
    "# Create a logistic regression model\n",
    "model = LogisticRegression()\n",
    "\n",
    "# Train the model on the training data\n",
    "model.fit(X_train, y_train)\n",
    "\n",
    "# Make predictions on the testing data\n",
    "y_pred = model.predict(X_test)\n",
    "\n",
    "# Evaluate the model\n",
    "accuracy = accuracy_score(y_test, y_pred)\n",
    "print(\"Accuracy:\", accuracy)\n",
    "\n",
    "report = classification_report(y_test, y_pred)\n",
    "print(\"Classification Report:\\n\", report)"
   ]
  },
  {
   "cell_type": "markdown",
   "id": "74010150",
   "metadata": {},
   "source": [
    "- The logistic regression model achieved an accuracy of 0.854375 on the testing data, indicating that it correctly predicted the sentiment labels for approximately 85.44% of the reviews.\n",
    "- The macro average gives the average precision, recall, and F1-score across all classes, giving equal weight to each class. In this case, the macro average precision, recall, and F1-score are all around 0.55.\n",
    "- The weighted average provides a weighted average of precision, recall, and F1-score, taking into account the number of instances in each class. In this case, the weighted average precision, recall, and F1-score are all around 0.85.\n",
    "- Overall, the model achieved good accuracy and performed well in classifying class 0 and class 2 sentiments. However, it did not make any correct predictions for class 1, possibly due to the limited number of instances in that class. "
   ]
  },
  {
   "cell_type": "code",
   "execution_count": 32,
   "id": "5d86ec9b",
   "metadata": {
    "scrolled": false
   },
   "outputs": [
    {
     "name": "stdout",
     "output_type": "stream",
     "text": [
      "Decision Tree Accuracy: 0.69075\n",
      "Classification Report:\n",
      "               precision    recall  f1-score   support\n",
      "\n",
      "           0       0.53      0.53      0.53      2645\n",
      "           1       0.77      0.77      0.77      5355\n",
      "\n",
      "    accuracy                           0.69      8000\n",
      "   macro avg       0.65      0.65      0.65      8000\n",
      "weighted avg       0.69      0.69      0.69      8000\n",
      "\n"
     ]
    }
   ],
   "source": [
    "# Create a Decision Tree classifier\n",
    "dt_classifier = DecisionTreeClassifier()\n",
    "\n",
    "# Train the Decision Tree classifier\n",
    "dt_classifier.fit(X_train, y_train)\n",
    "\n",
    "# Make predictions on the test set\n",
    "dt_predictions = dt_classifier.predict(X_test)\n",
    "\n",
    "# Evaluate the performance\n",
    "dt_accuracy = accuracy_score(y_test, dt_predictions)\n",
    "print(\"Decision Tree Accuracy:\", dt_accuracy)\n",
    "\n",
    "dt_report = classification_report(y_test, dt_predictions)\n",
    "print(\"Classification Report:\\n\", dt_report)"
   ]
  },
  {
   "cell_type": "markdown",
   "id": "b1cd29ae",
   "metadata": {},
   "source": [
    "- The decision tree model achieved an overall accuracy of approximately 68.84%, on the dataset it was evaluated on.\n",
    "- We got 69% weighted average precesion, recall, and F1 score."
   ]
  },
  {
   "cell_type": "code",
   "execution_count": 33,
   "id": "7d473d09",
   "metadata": {},
   "outputs": [
    {
     "name": "stdout",
     "output_type": "stream",
     "text": [
      "Random Forest Accuracy: 0.756625\n",
      "Classification Report:\n",
      "               precision    recall  f1-score   support\n",
      "\n",
      "           0       0.87      0.31      0.46      2645\n",
      "           1       0.74      0.98      0.84      5355\n",
      "\n",
      "    accuracy                           0.76      8000\n",
      "   macro avg       0.80      0.64      0.65      8000\n",
      "weighted avg       0.78      0.76      0.72      8000\n",
      "\n"
     ]
    }
   ],
   "source": [
    "# Create a Random Forest classifier\n",
    "rf_classifier = RandomForestClassifier()\n",
    "\n",
    "# Train the Random Forest classifier\n",
    "rf_classifier.fit(X_train, y_train)\n",
    "\n",
    "# Make predictions on the test set\n",
    "rf_predictions = rf_classifier.predict(X_test)\n",
    "\n",
    "# Evaluate the performance\n",
    "rf_accuracy = accuracy_score(y_test, rf_predictions)\n",
    "print(\"Random Forest Accuracy:\", rf_accuracy)\n",
    "\n",
    "rf_report = classification_report(y_test,rf_predictions )\n",
    "print(\"Classification Report:\\n\", rf_report)"
   ]
  },
  {
   "cell_type": "markdown",
   "id": "94f72580",
   "metadata": {},
   "source": [
    "- The Random Forest model achieved an overall accuracy of approximately 75%, on the dataset it was evaluated on."
   ]
  },
  {
   "cell_type": "code",
   "execution_count": 34,
   "id": "567494d7",
   "metadata": {},
   "outputs": [
    {
     "name": "stdout",
     "output_type": "stream",
     "text": [
      "Accuracy: 0.85975\n",
      "Classification Report:\n",
      "               precision    recall  f1-score   support\n",
      "\n",
      "           0       0.82      0.74      0.78      2645\n",
      "           1       0.88      0.92      0.90      5355\n",
      "\n",
      "    accuracy                           0.86      8000\n",
      "   macro avg       0.85      0.83      0.84      8000\n",
      "weighted avg       0.86      0.86      0.86      8000\n",
      "\n"
     ]
    }
   ],
   "source": [
    "# Define the parameter grid for hyperparameter tuning\n",
    "param_grid = {\n",
    "    'C': [0.1, 1.0, 10.0],\n",
    "    'penalty': ['l1', 'l2']\n",
    "}\n",
    "\n",
    "# Create a Logistic Regression classifier\n",
    "logreg_classifier = LogisticRegression(solver='liblinear')\n",
    "\n",
    "# Perform hyperparameter tuning using GridSearchCV\n",
    "grid_search = GridSearchCV(logreg_classifier, param_grid, cv=5)\n",
    "grid_search.fit(X_train, y_train)\n",
    "\n",
    "# Get the best hyperparameters and model\n",
    "best_params = grid_search.best_params_\n",
    "best_model = grid_search.best_estimator_\n",
    "\n",
    "# Make predictions on the test set using the best model\n",
    "y_pred = best_model.predict(X_test)\n",
    "\n",
    "# Evaluate the performance\n",
    "accuracy = accuracy_score(y_test, y_pred)\n",
    "print(\"Accuracy:\", accuracy)\n",
    "\n",
    "classification_report = classification_report(y_test, y_pred)\n",
    "print(\"Classification Report:\\n\", classification_report)"
   ]
  },
  {
   "cell_type": "markdown",
   "id": "79a5dc8f",
   "metadata": {},
   "source": [
    "- We did hyperparameter tuning for a logistic regression classifier using the GridSearchCV method and we got an accuracy of 86%."
   ]
  },
  {
   "cell_type": "code",
   "execution_count": 35,
   "id": "96935144",
   "metadata": {},
   "outputs": [
    {
     "name": "stdout",
     "output_type": "stream",
     "text": [
      "[1 1 1 ... 0 1 1]\n"
     ]
    }
   ],
   "source": [
    "# Load the production dataset (features) from the CSV file\n",
    "df_final = pd.read_csv(\"https://raw.githubusercontent.com/msaricaumbc/DS_data/master/ds602/final/X_final.csv\")\n",
    "\n",
    "# Preprocess the text data using the same TF-IDF vectorizer\n",
    "X_final = tfidf.transform(df_final[\"review\"])\n",
    "\n",
    "\n",
    "# Create and fit the Logistic Regression model\n",
    "logreg_classifier = LogisticRegression(solver='liblinear')\n",
    "logreg_classifier.fit(X_train, y_train)\n",
    "\n",
    "# Make predictions using the trained Logistic Regression model\n",
    "predictions_final = logreg_classifier.predict(X_final)\n",
    "\n",
    "# Print the predictions\n",
    "print(predictions_final)"
   ]
  },
  {
   "cell_type": "markdown",
   "id": "22be10f4",
   "metadata": {},
   "source": [
    "- We make predictions on a production dataset using a trained logistic regression model."
   ]
  },
  {
   "cell_type": "code",
   "execution_count": 36,
   "id": "9ff5e2db",
   "metadata": {},
   "outputs": [
    {
     "name": "stdout",
     "output_type": "stream",
     "text": [
      "Accuracy: 0.7034\n"
     ]
    }
   ],
   "source": [
    "# Load the true labels from the dataset\n",
    "true_labels = pd.read_csv(\"https://raw.githubusercontent.com/msaricaumbc/DS_data/master/ds602/final/y_final.csv\")\n",
    "true_labels = true_labels[\"sentiment\"].values\n",
    "\n",
    "# Calculate the accuracy\n",
    "accuracy = accuracy_score(true_labels, predictions_final)\n",
    "print(\"Accuracy:\", accuracy)"
   ]
  },
  {
   "cell_type": "markdown",
   "id": "d0331dc9",
   "metadata": {},
   "source": [
    "- Finally after validating with the true labels, we got an accuracy of 70%."
   ]
  }
 ],
 "metadata": {
  "kernelspec": {
   "display_name": "Python 3 (ipykernel)",
   "language": "python",
   "name": "python3"
  },
  "language_info": {
   "codemirror_mode": {
    "name": "ipython",
    "version": 3
   },
   "file_extension": ".py",
   "mimetype": "text/x-python",
   "name": "python",
   "nbconvert_exporter": "python",
   "pygments_lexer": "ipython3",
   "version": "3.9.13"
  }
 },
 "nbformat": 4,
 "nbformat_minor": 5
}
