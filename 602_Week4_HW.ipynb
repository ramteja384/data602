{
 "cells": [
  {
   "cell_type": "code",
   "execution_count": 42,
   "id": "7f29cc37",
   "metadata": {},
   "outputs": [
    {
     "name": "stdout",
     "output_type": "stream",
     "text": [
      "<class 'pandas.core.frame.DataFrame'>\n",
      "RangeIndex: 9055 entries, 0 to 9054\n",
      "Data columns (total 7 columns):\n",
      " #   Column         Non-Null Count  Dtype  \n",
      "---  ------         --------------  -----  \n",
      " 0   make           8164 non-null   object \n",
      " 1   transmission   8106 non-null   object \n",
      " 2   state          8152 non-null   object \n",
      " 3   condition      8173 non-null   float64\n",
      " 4   odometer       8178 non-null   float64\n",
      " 5   auction_value  8107 non-null   float64\n",
      " 6   selling_price  9055 non-null   float64\n",
      "dtypes: float64(4), object(3)\n",
      "memory usage: 495.3+ KB\n"
     ]
    },
    {
     "data": {
      "text/html": [
       "<div>\n",
       "<style scoped>\n",
       "    .dataframe tbody tr th:only-of-type {\n",
       "        vertical-align: middle;\n",
       "    }\n",
       "\n",
       "    .dataframe tbody tr th {\n",
       "        vertical-align: top;\n",
       "    }\n",
       "\n",
       "    .dataframe thead th {\n",
       "        text-align: right;\n",
       "    }\n",
       "</style>\n",
       "<table border=\"1\" class=\"dataframe\">\n",
       "  <thead>\n",
       "    <tr style=\"text-align: right;\">\n",
       "      <th></th>\n",
       "      <th>make</th>\n",
       "      <th>transmission</th>\n",
       "      <th>state</th>\n",
       "      <th>condition</th>\n",
       "      <th>odometer</th>\n",
       "      <th>auction_value</th>\n",
       "      <th>selling_price</th>\n",
       "    </tr>\n",
       "  </thead>\n",
       "  <tbody>\n",
       "    <tr>\n",
       "      <th>0</th>\n",
       "      <td>nissan</td>\n",
       "      <td>automatic</td>\n",
       "      <td>md</td>\n",
       "      <td>4.8</td>\n",
       "      <td>NaN</td>\n",
       "      <td>14350.0</td>\n",
       "      <td>13600.0</td>\n",
       "    </tr>\n",
       "    <tr>\n",
       "      <th>1</th>\n",
       "      <td>ford</td>\n",
       "      <td>automatic</td>\n",
       "      <td>mo</td>\n",
       "      <td>3.7</td>\n",
       "      <td>29398.0</td>\n",
       "      <td>17600.0</td>\n",
       "      <td>17100.0</td>\n",
       "    </tr>\n",
       "    <tr>\n",
       "      <th>2</th>\n",
       "      <td>ford</td>\n",
       "      <td>automatic</td>\n",
       "      <td>fl</td>\n",
       "      <td>3.2</td>\n",
       "      <td>32180.0</td>\n",
       "      <td>19100.0</td>\n",
       "      <td>17600.0</td>\n",
       "    </tr>\n",
       "    <tr>\n",
       "      <th>3</th>\n",
       "      <td>nissan</td>\n",
       "      <td>automatic</td>\n",
       "      <td>ca</td>\n",
       "      <td>NaN</td>\n",
       "      <td>30798.0</td>\n",
       "      <td>11950.0</td>\n",
       "      <td>10700.0</td>\n",
       "    </tr>\n",
       "    <tr>\n",
       "      <th>4</th>\n",
       "      <td>ford</td>\n",
       "      <td>automatic</td>\n",
       "      <td>nj</td>\n",
       "      <td>2.8</td>\n",
       "      <td>29526.0</td>\n",
       "      <td>28000.0</td>\n",
       "      <td>26100.0</td>\n",
       "    </tr>\n",
       "    <tr>\n",
       "      <th>...</th>\n",
       "      <td>...</td>\n",
       "      <td>...</td>\n",
       "      <td>...</td>\n",
       "      <td>...</td>\n",
       "      <td>...</td>\n",
       "      <td>...</td>\n",
       "      <td>...</td>\n",
       "    </tr>\n",
       "    <tr>\n",
       "      <th>9050</th>\n",
       "      <td>NaN</td>\n",
       "      <td>automatic</td>\n",
       "      <td>il</td>\n",
       "      <td>4.2</td>\n",
       "      <td>41186.0</td>\n",
       "      <td>NaN</td>\n",
       "      <td>11600.0</td>\n",
       "    </tr>\n",
       "    <tr>\n",
       "      <th>9051</th>\n",
       "      <td>ford</td>\n",
       "      <td>automatic</td>\n",
       "      <td>fl</td>\n",
       "      <td>NaN</td>\n",
       "      <td>38810.0</td>\n",
       "      <td>16250.0</td>\n",
       "      <td>17300.0</td>\n",
       "    </tr>\n",
       "    <tr>\n",
       "      <th>9052</th>\n",
       "      <td>nissan</td>\n",
       "      <td>NaN</td>\n",
       "      <td>ga</td>\n",
       "      <td>4.7</td>\n",
       "      <td>4551.0</td>\n",
       "      <td>12500.0</td>\n",
       "      <td>13800.0</td>\n",
       "    </tr>\n",
       "    <tr>\n",
       "      <th>9053</th>\n",
       "      <td>ford</td>\n",
       "      <td>automatic</td>\n",
       "      <td>il</td>\n",
       "      <td>4.6</td>\n",
       "      <td>33114.0</td>\n",
       "      <td>21800.0</td>\n",
       "      <td>27000.0</td>\n",
       "    </tr>\n",
       "    <tr>\n",
       "      <th>9054</th>\n",
       "      <td>ford</td>\n",
       "      <td>automatic</td>\n",
       "      <td>ga</td>\n",
       "      <td>3.7</td>\n",
       "      <td>23776.0</td>\n",
       "      <td>28800.0</td>\n",
       "      <td>29800.0</td>\n",
       "    </tr>\n",
       "  </tbody>\n",
       "</table>\n",
       "<p>9055 rows × 7 columns</p>\n",
       "</div>"
      ],
      "text/plain": [
       "        make transmission state  condition  odometer  auction_value  \\\n",
       "0     nissan    automatic    md        4.8       NaN        14350.0   \n",
       "1       ford    automatic    mo        3.7   29398.0        17600.0   \n",
       "2       ford    automatic    fl        3.2   32180.0        19100.0   \n",
       "3     nissan    automatic    ca        NaN   30798.0        11950.0   \n",
       "4       ford    automatic    nj        2.8   29526.0        28000.0   \n",
       "...      ...          ...   ...        ...       ...            ...   \n",
       "9050     NaN    automatic    il        4.2   41186.0            NaN   \n",
       "9051    ford    automatic    fl        NaN   38810.0        16250.0   \n",
       "9052  nissan          NaN    ga        4.7    4551.0        12500.0   \n",
       "9053    ford    automatic    il        4.6   33114.0        21800.0   \n",
       "9054    ford    automatic    ga        3.7   23776.0        28800.0   \n",
       "\n",
       "      selling_price  \n",
       "0           13600.0  \n",
       "1           17100.0  \n",
       "2           17600.0  \n",
       "3           10700.0  \n",
       "4           26100.0  \n",
       "...             ...  \n",
       "9050        11600.0  \n",
       "9051        17300.0  \n",
       "9052        13800.0  \n",
       "9053        27000.0  \n",
       "9054        29800.0  \n",
       "\n",
       "[9055 rows x 7 columns]"
      ]
     },
     "execution_count": 42,
     "metadata": {},
     "output_type": "execute_result"
    }
   ],
   "source": [
    "import pandas as pd\n",
    "\n",
    "df = pd.read_csv('https://raw.githubusercontent.com/msaricaumbc/DS_data/master/ds602/regression/car-reg-data.csv')\n",
    "df.info()\n",
    "df"
   ]
  },
  {
   "cell_type": "code",
   "execution_count": 43,
   "id": "650e21fe",
   "metadata": {},
   "outputs": [
    {
     "name": "stdout",
     "output_type": "stream",
     "text": [
      "Records in training data: 7,244\n",
      "Records in test data: 1,811\n",
      "\n",
      "Features:\n",
      "make\n",
      "transmission\n",
      "state\n",
      "condition\n",
      "odometer\n",
      "auction_value\n"
     ]
    }
   ],
   "source": [
    "from sklearn.model_selection import train_test_split\n",
    "features = [x for x in df.columns if x != 'selling_price']\n",
    "\n",
    "X = df[features]\n",
    "y = df['selling_price']\n",
    "\n",
    "X_train, X_test, y_train, y_test = train_test_split(X, y, test_size=0.2, random_state=100)\n",
    "\n",
    "print(f'Records in training data: {X_train.shape[0]:,}')\n",
    "print(f'Records in test data: {X_test.shape[0]:,}')\n",
    "print('\\nFeatures:')\n",
    "print(*X_train.columns, sep='\\n')"
   ]
  },
  {
   "cell_type": "markdown",
   "id": "e5c7da83",
   "metadata": {},
   "source": [
    "# Question 1: Split the features into two lists, one for the numerical features and another for the categorical features."
   ]
  },
  {
   "cell_type": "code",
   "execution_count": 44,
   "id": "36640610",
   "metadata": {},
   "outputs": [],
   "source": [
    "x=df[['make','transmission','state','condition','odometer','auction_value']]\n",
    "y=df[['selling_price']]"
   ]
  },
  {
   "cell_type": "markdown",
   "id": "297cceea",
   "metadata": {},
   "source": [
    "# Question 2: Using the numerical variables, create a pipeline that replaces the missing values with the median and then standardizes the values using a standard scaler."
   ]
  },
  {
   "cell_type": "code",
   "execution_count": 45,
   "id": "6efcad61",
   "metadata": {},
   "outputs": [
    {
     "data": {
      "text/plain": [
       "make             891\n",
       "transmission     949\n",
       "state            903\n",
       "condition        882\n",
       "odometer         877\n",
       "auction_value    948\n",
       "selling_price      0\n",
       "dtype: int64"
      ]
     },
     "execution_count": 45,
     "metadata": {},
     "output_type": "execute_result"
    }
   ],
   "source": [
    "df.isnull().sum()"
   ]
  },
  {
   "cell_type": "code",
   "execution_count": 54,
   "id": "880fc82f",
   "metadata": {},
   "outputs": [
    {
     "data": {
      "text/plain": [
       "make             891\n",
       "transmission     949\n",
       "state            903\n",
       "condition          0\n",
       "odometer           0\n",
       "auction_value      0\n",
       "selling_price      0\n",
       "dtype: int64"
      ]
     },
     "execution_count": 54,
     "metadata": {},
     "output_type": "execute_result"
    }
   ],
   "source": [
    "df['condition'].fillna(df['condition'].median(),inplace=True)\n",
    "df['odometer'].fillna(df['odometer'].median(),inplace=True)\n",
    "df['auction_value'].fillna(df['auction_value'].median(),inplace=True)\n",
    "df.isnull().sum()"
   ]
  },
  {
   "cell_type": "code",
   "execution_count": 47,
   "id": "b50fb8e4",
   "metadata": {},
   "outputs": [
    {
     "data": {
      "text/plain": [
       "array([[ 1.33305878, -0.18533584, -0.19118532, -0.28259296],\n",
       "       [-0.08100654, -0.41098549,  0.2490203 ,  0.15990885],\n",
       "       [-0.72376351, -0.31410936,  0.45219212,  0.2231234 ],\n",
       "       ...,\n",
       "       [ 1.20450738, -1.27621957, -0.44176391, -0.25730714],\n",
       "       [ 1.07595599, -0.28158517,  0.81790141,  1.41155684],\n",
       "       [-0.08100654, -0.60675746,  1.76603659,  1.76555829]])"
      ]
     },
     "execution_count": 47,
     "metadata": {},
     "output_type": "execute_result"
    }
   ],
   "source": [
    "from sklearn.preprocessing import StandardScaler\n",
    "data=df[['condition','odometer','auction_value','selling_price']]\n",
    "\n",
    "data_scale=data.copy()\n",
    "data_scale.fillna(0,inplace=True)\n",
    "\n",
    "sc=StandardScaler()\n",
    "data1=sc.fit_transform(data_scale)\n",
    "data1"
   ]
  },
  {
   "cell_type": "markdown",
   "id": "3b52b279",
   "metadata": {},
   "source": [
    "# Question 3: Using the categorical variables, create a pipeline that replaces the missing values with the most frequent and then use one-hot encoding to convert the data to numerical arrays."
   ]
  },
  {
   "cell_type": "code",
   "execution_count": 60,
   "id": "66e08d46",
   "metadata": {},
   "outputs": [],
   "source": [
    "df['make'].fillna(df['transmission'].mode(),inplace=True)\n",
    "df['transmission'].fillna(df['transmission'].mode(),inplace=True)\n",
    "df['state'].fillna(df['state'].mode(),inplace=True)"
   ]
  },
  {
   "cell_type": "code",
   "execution_count": 79,
   "id": "e0276551",
   "metadata": {},
   "outputs": [
    {
     "data": {
      "text/plain": [
       "array([[ 1.33305878, -0.18533584, -0.19118532, -0.28259296],\n",
       "       [-0.08100654, -0.41098549,  0.2490203 ,  0.15990885],\n",
       "       [-0.72376351, -0.31410936,  0.45219212,  0.2231234 ],\n",
       "       ...,\n",
       "       [ 1.20450738, -1.27621957, -0.44176391, -0.25730714],\n",
       "       [ 1.07595599, -0.28158517,  0.81790141,  1.41155684],\n",
       "       [-0.08100654, -0.60675746,  1.76603659,  1.76555829]])"
      ]
     },
     "execution_count": 79,
     "metadata": {},
     "output_type": "execute_result"
    }
   ],
   "source": [
    "dummies1=pd.get_dummies(df,columns=['make','transmission','state'])\n",
    "dummies1_scale=data.copy()\n",
    "dummies1_scale.fillna(0,inplace=True)\n",
    "\n",
    "sc1=StandardScaler()\n",
    "data2=sc1.fit_transform(dummies1_scale)\n",
    "data2"
   ]
  },
  {
   "cell_type": "markdown",
   "id": "9a2ad4a2",
   "metadata": {},
   "source": [
    "# Question 4: Combine the numerical and categorical pipelines into one data processing pipeline."
   ]
  },
  {
   "cell_type": "code",
   "execution_count": 82,
   "id": "7f5176ae",
   "metadata": {},
   "outputs": [
    {
     "data": {
      "text/plain": [
       "array([[ 2.66611755, -0.37067169, -0.38237065, -0.56518592],\n",
       "       [-0.16201309, -0.82197098,  0.4980406 ,  0.31981771],\n",
       "       [-1.44752701, -0.62821872,  0.90438425,  0.4462468 ],\n",
       "       ...,\n",
       "       [ 2.40901477, -2.55243914, -0.88352782, -0.51461429],\n",
       "       [ 2.15191198, -0.56317034,  1.63580282,  2.82311368],\n",
       "       [-0.16201309, -1.21351491,  3.53207319,  3.53111659]])"
      ]
     },
     "execution_count": 82,
     "metadata": {},
     "output_type": "execute_result"
    }
   ],
   "source": [
    "df2 = data1+data2\n",
    "df2"
   ]
  },
  {
   "cell_type": "markdown",
   "id": "1faabbbd",
   "metadata": {},
   "source": [
    "# Question 5: Add a linear regression model to the pipeline."
   ]
  },
  {
   "cell_type": "code",
   "execution_count": 83,
   "id": "ba6753dc",
   "metadata": {},
   "outputs": [],
   "source": [
    "from sklearn.model_selection import train_test_split\n",
    "X_train,X_test,y_train,y_test=train_test_split(df2,y,test_size=.25,random_state=10)"
   ]
  },
  {
   "cell_type": "code",
   "execution_count": 84,
   "id": "c7cd3b4e",
   "metadata": {},
   "outputs": [],
   "source": [
    "from sklearn.linear_model import LinearRegression"
   ]
  },
  {
   "cell_type": "code",
   "execution_count": 85,
   "id": "323f0dbc",
   "metadata": {},
   "outputs": [],
   "source": [
    "reg=LinearRegression()\n",
    "reg.fit(X_train,y_train)\n",
    "y_pred=reg.predict(X_test)"
   ]
  },
  {
   "cell_type": "code",
   "execution_count": 88,
   "id": "7ef329a8",
   "metadata": {},
   "outputs": [
    {
     "name": "stdout",
     "output_type": "stream",
     "text": [
      "[[ 3.51793949e-12 -2.27373675e-12 -2.27373675e-13  3.95478605e+03]]\n",
      "[15835.18939812]\n"
     ]
    }
   ],
   "source": [
    "print(reg.coef_)\n",
    "print(reg.intercept_)"
   ]
  },
  {
   "cell_type": "markdown",
   "id": "c8225a44",
   "metadata": {},
   "source": [
    "# Question 6: Create a plot(s) of the residuals. Do you have any concerns about patterns in the residuals that the model is neglecting to pick-up?"
   ]
  },
  {
   "cell_type": "code",
   "execution_count": 98,
   "id": "cb59b47e",
   "metadata": {},
   "outputs": [
    {
     "data": {
      "image/png": "[encoded data removed]",
      "text/plain": [
       "<Figure size 640x480 with 1 Axes>"
      ]
     },
     "metadata": {},
     "output_type": "display_data"
    }
   ],
   "source": [
    "import matplotlib.pyplot as plt\n",
    "residuals = y_test-y_pred\n",
    "plt.scatter(residuals,y_pred)\n",
    "\n",
    "plt.show()"
   ]
  },
  {
   "cell_type": "markdown",
   "id": "ea53053e",
   "metadata": {},
   "source": [
    "# Question 7: Modify the pipeline to use a ridge regression model with an alpha value of 100. How does this change the \n",
    "R\n",
    "2\n",
    "?"
   ]
  },
  {
   "cell_type": "code",
   "execution_count": 108,
   "id": "dc1275bd",
   "metadata": {},
   "outputs": [
    {
     "data": {
      "text/plain": [
       "Pipeline(steps=[('standardscaler', StandardScaler()),\n",
       "                ('ridge', Ridge(alpha=100))])"
      ]
     },
     "execution_count": 108,
     "metadata": {},
     "output_type": "execute_result"
    }
   ],
   "source": [
    "from sklearn.linear_model import Ridge\n",
    "from sklearn.pipeline import make_pipeline\n",
    "pipeline = make_pipeline(StandardScaler(), Ridge(alpha=100))\n",
    "pipeline.fit(X_train, y_train)"
   ]
  }
 ],
 "metadata": {
  "kernelspec": {
   "display_name": "Python 3 (ipykernel)",
   "language": "python",
   "name": "python3"
  },
  "language_info": {
   "codemirror_mode": {
    "name": "ipython",
    "version": 3
   },
   "file_extension": ".py",
   "mimetype": "text/x-python",
   "name": "python",
   "nbconvert_exporter": "python",
   "pygments_lexer": "ipython3",
   "version": "3.9.13"
  }
 },
 "nbformat": 4,
 "nbformat_minor": 5
}
