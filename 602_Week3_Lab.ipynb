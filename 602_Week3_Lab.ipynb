{
 "cells": [
  {
   "cell_type": "markdown",
   "id": "99177e19",
   "metadata": {},
   "source": [
    "_Week 3 Lab_\n",
    "\n",
    "_Questions:_\n",
    "\n",
    "- Differences between supervised and unsupervised learning?\n",
    "- Differences between classification and regression?\n",
    "- Classification and regression are the only types of supervised learning?"
   ]
  },
  {
   "cell_type": "markdown",
   "id": "12dbd889",
   "metadata": {},
   "source": [
    "# Answers:\n",
    "- Labeled data is the primary distinction between supervised and unsupervised learning. The usage of labeled datasets is the primary difference between the two methodologies. Simply said, an unsupervised learning algorithm does not employ labeled input and output data. Supervised learning does.\n",
    "- The main distinction between classification and regression is that although classification aids in the prediction of discrete class labels, regression assists in the prediction of continuous quantities.\n",
    "- Yes, Classification and regression are the only types of supervised learning."
   ]
  }
 ],
 "metadata": {
  "kernelspec": {
   "display_name": "Python 3 (ipykernel)",
   "language": "python",
   "name": "python3"
  },
  "language_info": {
   "codemirror_mode": {
    "name": "ipython",
    "version": 3
   },
   "file_extension": ".py",
   "mimetype": "text/x-python",
   "name": "python",
   "nbconvert_exporter": "python",
   "pygments_lexer": "ipython3",
   "version": "3.9.13"
  }
 },
 "nbformat": 4,
 "nbformat_minor": 5
}
